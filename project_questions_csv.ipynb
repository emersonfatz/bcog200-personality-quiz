{
  "nbformat": 4,
  "nbformat_minor": 0,
  "metadata": {
    "colab": {
      "provenance": [],
      "authorship_tag": "ABX9TyOza9yaiEh+JccxYxidnktW",
      "include_colab_link": true
    },
    "kernelspec": {
      "name": "python3",
      "display_name": "Python 3"
    },
    "language_info": {
      "name": "python"
    }
  },
  "cells": [
    {
      "cell_type": "markdown",
      "metadata": {
        "id": "view-in-github",
        "colab_type": "text"
      },
      "source": [
        "<a href=\"https://colab.research.google.com/github/emersonfatz/bcog200-personality-quiz/blob/main/project_questions_csv.ipynb\" target=\"_parent\"><img src=\"https://colab.research.google.com/assets/colab-badge.svg\" alt=\"Open In Colab\"/></a>"
      ]
    },
    {
      "cell_type": "code",
      "execution_count": null,
      "metadata": {
        "id": "Y9hpg9vaTJmA"
      },
      "outputs": [],
      "source": [
        "1. Its syllabus week, how do you choose to spend your time\n",
        "A. You can find me at my RSOs table on quad day (class president)\n",
        "B. It's not a real week… let's  have fun! (social chair)\n",
        "C. It's the perfect time to get ahead on work before things get busy (grainger addict)\n",
        "D. Grabbing a pair of striped overalls from the bookstore.. Football season is coming up! (orange crush)\n",
        "\n",
        "2. What dorm did you live in freshman year\n",
        "A. Bromley (the social chair)\n",
        "B. ISR (grainger addict)\n",
        "C. Six pack (orange crush)\n",
        "D. LLC (class president)\n",
        "\n",
        "3. How do you like to spend a thursday night\n",
        "A. I never miss a thursday night Joes duh (social chair)\n",
        "B. Karaoke at the union (class president)\n",
        "C. In bed of course…it’s a school night (grainer addict)\n",
        "D. Playing on my intramural team (orange crush)\n",
        "\n",
        "4. It's halloweekend at u of i which costume are you picking?\n",
        "A. The mascot (orange crush)\n",
        "B. \"C-\" the scariest thing i can think of (class president)\n",
        "C. Party animal (social chair)\n",
        "D. Harry potter (grainger)\n",
        "\n",
        "5. How do you like to get your work done?\n",
        "A. Why wait around? Get it done right away (grainger)\n",
        "B. I’ll get around to it at some point… (orange crush)\n",
        "C. Probably turned in late, but at least it's done (social chair)\n",
        "D. I fit it in between my extracurricular events (class president)\n",
        "\n",
        "6. Dr. Uddenberg is hosting a Kahoot in class. What avatar are you choosing?\n",
        "A. The unicorn (social chair)\n",
        "B. The brain (grainger)\n",
        "C. The pumpkin (orange crush)\n",
        "D. The dog (class president)\n",
        "\n",
        "\n",
        "\n",
        "\n"
      ]
    },
    {
      "cell_type": "code",
      "source": [],
      "metadata": {
        "id": "tUlKZmxTUKcU"
      },
      "execution_count": null,
      "outputs": []
    }
  ]
}